{
 "cells": [
  {
   "cell_type": "code",
   "execution_count": 1,
   "id": "0a835cf0-0e38-4844-8956-f7967071c2cc",
   "metadata": {},
   "outputs": [
    {
     "name": "stdout",
     "output_type": "stream",
     "text": [
      "Requirement already satisfied: requests in c:\\users\\badgu\\anaconda3\\lib\\site-packages (2.32.3)\n",
      "Requirement already satisfied: beautifulsoup4 in c:\\users\\badgu\\anaconda3\\lib\\site-packages (4.12.3)\n",
      "Requirement already satisfied: whois in c:\\users\\badgu\\anaconda3\\lib\\site-packages (1.20240129.2)\n",
      "Requirement already satisfied: charset-normalizer<4,>=2 in c:\\users\\badgu\\anaconda3\\lib\\site-packages (from requests) (3.3.2)\n",
      "Requirement already satisfied: idna<4,>=2.5 in c:\\users\\badgu\\anaconda3\\lib\\site-packages (from requests) (3.7)\n",
      "Requirement already satisfied: urllib3<3,>=1.21.1 in c:\\users\\badgu\\anaconda3\\lib\\site-packages (from requests) (2.2.3)\n",
      "Requirement already satisfied: certifi>=2017.4.17 in c:\\users\\badgu\\anaconda3\\lib\\site-packages (from requests) (2024.12.14)\n",
      "Requirement already satisfied: soupsieve>1.2 in c:\\users\\badgu\\anaconda3\\lib\\site-packages (from beautifulsoup4) (2.5)\n"
     ]
    }
   ],
   "source": [
    "!pip install requests beautifulsoup4 whois"
   ]
  },
  {
   "cell_type": "code",
   "execution_count": 27,
   "id": "dd529735-1c25-4b59-b4ca-55443734bd6d",
   "metadata": {},
   "outputs": [],
   "source": [
    "import requests\n",
    "import whois\n",
    "from bs4 import BeautifulSoup\n",
    "import re\n",
    "from urllib.parse import urlparse"
   ]
  },
  {
   "cell_type": "code",
   "execution_count": 29,
   "id": "39c9bd0f-5c67-4485-ad5b-24874f0c4d57",
   "metadata": {},
   "outputs": [],
   "source": [
    "def is_suspicious_url(url):\n",
    "    suspicious_patterns = [\n",
    "        r\"\\d{1,3}\\.\\d{1,3}\\.\\d{1,3}\\.\\d{1,3}\",  # IP address in URL\n",
    "        r\"\\.xyz\",  # Certain TLDs often used by phishing sites\n",
    "        r\"\\.ru\",   # .ru is often associated with phishing\n",
    "        r\"login\",  # Common word used in phishing sites\n",
    "    ]\n",
    "    for pattern in suspicious_patterns:\n",
    "        if re.search(pattern, url):\n",
    "            return True\n",
    "    return False"
   ]
  },
  {
   "cell_type": "code",
   "execution_count": 31,
   "id": "21faabd7-8463-4d67-bba5-35f1b7a8bb81",
   "metadata": {},
   "outputs": [],
   "source": [
    "def get_domain_info(url):\n",
    "    domain = urlparse(url).netloc\n",
    "    try:\n",
    "        w = whois.whois(domain)\n",
    "        if w.creation_date is None or (type(w.creation_date) == list and len(w.creation_date) == 0):\n",
    "            return False  # New domain, possibly suspicious\n",
    "        return True\n",
    "    except Exception as e:\n",
    "        return False  # Could not retrieve domain info, likely suspicious"
   ]
  },
  {
   "cell_type": "code",
   "execution_count": 35,
   "id": "a5281a14-6c42-43e5-bd3b-30ebff8dbb11",
   "metadata": {},
   "outputs": [],
   "source": [
    "def analyze_page(url):\n",
    "    try:\n",
    "        # Fetch the page content\n",
    "        response = requests.get(url)\n",
    "        soup = BeautifulSoup(response.content, 'html.parser')\n",
    "\n",
    "        # Look for phishing signs in the html tags(e.g: fake forms, excessive redirects)\n",
    "        forms = soup.find_all('form')\n",
    "        for form in forms:\n",
    "            action = form.get('action', '')\n",
    "            if 'login' in action or 'submit' in action:\n",
    "                print(\"Suspicious form found in page!\")\n",
    "                return True\n",
    "        return False\n",
    "    except Exception as e:\n",
    "        print(f\"Error fetching page: {e}\")\n",
    "        return True\n",
    "\n",
    "# Check if the URL is in PhishTank (API check)\n",
    "def check_with_phishtank(url):\n",
    "    phishtank_api_url = \"https://checkurl.phishtank.com/checkurl/\"\n",
    "    headers = {\"Content-Type\": \"application/x-www-form-urlencoded\"}\n",
    "    data = {\"url\": url, \"format\": \"json\", \"app_key\": \"your_api_key_here\"}\n",
    "    response = requests.post(phishtank_api_url, data=data, headers=headers)\n",
    "    result = response.json()\n",
    "    if result.get('results', {}).get('in_databse', False):\n",
    "        print(\"PhishTank: This URL is flagged as phishing.\")\n",
    "        return True\n",
    "    else:\n",
    "        print(\"PhishTank: This URL seems safe.\")\n",
    "        return False\n",
    "\n",
    "# Final phishing link scanner function\n",
    "def phishing_link_scanner(url):\n",
    "    print(f\"Analyzing URL: {url}\")\n",
    "    # Step 1: Check the URL pattern\n",
    "    if is_suspicious_url(url):\n",
    "        print(\"Suspicious URL pattern detected!\")\n",
    "        return True\n",
    "    # Step 2: Check domain registration information\n",
    "    if not get_domain_info(url):\n",
    "        print(\"Suspicious domain registration detected!\")\n",
    "        return True\n",
    "    # Step 3: Check URL with PhishTank\n",
    "    if check_with_phishtank(url):\n",
    "        return True\n",
    "    \n",
    "    # Step 4: Analyze the page for suspicious content\n",
    "    if analyze_page(url):\n",
    "        print(\"Suspicious content found on the page!\")\n",
    "        return True\n",
    "    \n",
    "    print(\"The URL seems safe.\")\n",
    "    return False"
   ]
  },
  {
   "cell_type": "code",
   "execution_count": 37,
   "id": "88aa25b1-f8b5-44f1-a132-54f465cfc94a",
   "metadata": {},
   "outputs": [
    {
     "name": "stdin",
     "output_type": "stream",
     "text": [
      "Enter URL to check:  http://example.com\n"
     ]
    },
    {
     "name": "stdout",
     "output_type": "stream",
     "text": [
      "Analyzing URL: http://example.com\n",
      "Suspicious domain registration detected!\n",
      "Warning! This is a phishing attempt.\n"
     ]
    }
   ],
   "source": [
    "test_url = input(\"Enter URL to check: \")\n",
    "result = phishing_link_scanner(test_url)\n",
    "if result:\n",
    "    print(\"Warning! This is a phishing attempt.\")\n",
    "else:\n",
    "    print(\"The URL appears to be safe.\")"
   ]
  },
  {
   "cell_type": "code",
   "execution_count": null,
   "id": "7b6d1cc9-e109-4d53-bf61-9741185bef87",
   "metadata": {},
   "outputs": [],
   "source": []
  }
 ],
 "metadata": {
  "kernelspec": {
   "display_name": "Python [conda env:base] *",
   "language": "python",
   "name": "conda-base-py"
  },
  "language_info": {
   "codemirror_mode": {
    "name": "ipython",
    "version": 3
   },
   "file_extension": ".py",
   "mimetype": "text/x-python",
   "name": "python",
   "nbconvert_exporter": "python",
   "pygments_lexer": "ipython3",
   "version": "3.12.7"
  }
 },
 "nbformat": 4,
 "nbformat_minor": 5
}
